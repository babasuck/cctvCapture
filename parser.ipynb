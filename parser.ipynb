{
 "cells": [
  {
   "cell_type": "code",
   "execution_count": 28,
   "metadata": {},
   "outputs": [
    {
     "name": "stdout",
     "output_type": "stream",
     "text": [
      "https://fs.tv-alpari.ru/(1)ParkNaTdShelehov/tracks-v1/$mono.m3u8?token=1$shelehov_open\n",
      "https://fs.tv-alpari.ru/(2)AlleyaGorPark/tracks-v1/$mono.m3u8?token=1$shelehov_open\n",
      "https://fs.tv-alpari.ru/Ploshad.mercurii/tracks-v1/$mono.m3u8?token=1$shelehov_open\n",
      "https://fs.tv-alpari.ru/Ploshad.mercurii2/tracks-v1/$mono.m3u8?token=1$shelehov_open\n",
      "https://fs.tv-alpari.ru/Ploshad.mercurii3/tracks-v1/$mono.m3u8?token=1$shelehov_open\n",
      "https://fs.tv-alpari.ru/Mandarin1/tracks-v1/$mono.m3u8?token=1$shelehov_open\n",
      "https://fs.tv-alpari.ru/Sibir1/tracks-v1/$mono.m3u8?token=1$shelehov_open\n",
      "https://fs.tv-alpari.ru/Sibir2/tracks-v1/$mono.m3u8?token=1$shelehov_open\n",
      "https://fs.tv-alpari.ru/4m79d/tracks-v1/$mono.m3u8?token=1$shelehov_open\n",
      "https://fs.tv-alpari.ru/4m78dna66/tracks-v1/$mono.m3u8?token=1$shelehov_open\n",
      "https://fs.tv-alpari.ru/1m40adnaMakfuds/tracks-v1/$mono.m3u8?token=1$shelehov_open\n",
      "https://fs.tv-alpari.ru/4m12domVoDvor/tracks-v1/$mono.m3u8?token=1$shelehov_open\n",
      "https://fs.tv-alpari.ru/4m12domVoDvor2/tracks-v1/$mono.m3u8?token=1$shelehov_open\n",
      "https://fs.tv-alpari.ru/4m11domVoDvor/tracks-v1/$mono.m3u8?token=1$shelehov_open\n",
      "https://fs.tv-alpari.ru/4m10dVoDvor/tracks-v1/$mono.m3u8?token=1$shelehov_open\n",
      "https://fs.tv-alpari.ru/Privokz10aNaDetskPloshadku/tracks-v1/$mono.m3u8?token=1$shelehov_open\n",
      "https://fs.tv-alpari.ru/1m15dVoDvor/tracks-v1/$mono.m3u8?token=1$shelehov_open\n",
      "https://fs.tv-alpari.ru/1m16domVoDvor/tracks-v1/$mono.m3u8?token=1$shelehov_open\n",
      "https://fs.tv-alpari.ru/11kv4domVoDvor/tracks-v1/$mono.m3u8?token=1$shelehov_open\n",
      "https://fs.tv-alpari.ru/11kv4domVoDvor3/tracks-v1/$mono.m3u8?token=1$shelehov_open\n",
      "https://fs.tv-alpari.ru/8kv6domNaPerecrestok/tracks-v1/$mono.m3u8?token=1$shelehov_open\n",
      "https://fs.tv-alpari.ru/SerpiMolot/tracks-v1/$mono.m3u8?token=1$shelehov_open\n",
      "https://fs.tv-alpari.ru/PerekrestokCentrProspSPanzina/tracks-v1/$mono.m3u8?token=1$shelehov_open\n",
      "https://fs.tv-alpari.ru/3kv3domNaPerekrestok/tracks-v1/$mono.m3u8?token=1$shelehov_open\n",
      "24\n",
      "['https://fs.tv-alpari.ru/(1)ParkNaTdShelehov/preview.mp4?token=41f0a944f8a8408d729fad7f9561c45f', 'https://fs.tv-alpari.ru/(2)AlleyaGorPark/preview.mp4?token=2f6afa282eb67b498018a730a1ce5384', 'https://fs.tv-alpari.ru/Ploshad.mercurii/preview.mp4?token=d3109592c1bccda2fbdb21208cdc9417', 'https://fs.tv-alpari.ru/Ploshad.mercurii2/preview.mp4?token=3da5fbdc004390f7a851f56af19eef6f', 'https://fs.tv-alpari.ru/Ploshad.mercurii3/preview.mp4?token=5dbd5507c41dd4a0c1a154fd2a64424e', 'https://fs.tv-alpari.ru/Mandarin1/preview.mp4?token=855766d5c0e2728127beb9d461565999', 'https://fs.tv-alpari.ru/Sibir1/preview.mp4?token=96287745de0eea676b0f2b13eb84c480', 'https://fs.tv-alpari.ru/Sibir2/preview.mp4?token=3e44857765e9c8b1d6b3787ea1e6b0fc', 'https://fs.tv-alpari.ru/4m79d/preview.mp4?token=253cf9aeeb2001ce5544c1cd9b623f5c', 'https://fs.tv-alpari.ru/4m78dna66/preview.mp4?token=8f0a673c57eed5db1620e3c2859faca9', 'https://fs.tv-alpari.ru/1m40adnaMakfuds/preview.mp4?token=c09bb2e1625e1f28bd7dcd5f2c1177aa', 'https://fs.tv-alpari.ru/4m12domVoDvor/preview.mp4?token=2f986afff841ef2c9f2329fc427814ce', 'https://fs.tv-alpari.ru/4m12domVoDvor2/preview.mp4?token=26b42b06bde5ee59377dc411c5ce5131', 'https://fs.tv-alpari.ru/4m11domVoDvor/preview.mp4?token=9a6897b54a7f4cf1552bcfa3bb285ede', 'https://fs.tv-alpari.ru/4m10dVoDvor/preview.mp4?token=1a0015ed5645f317da32fa97298996c2', 'https://fs.tv-alpari.ru/Privokz10aNaDetskPloshadku/preview.mp4?token=77050ca1fceb985b1af33de2944b809c', 'https://fs.tv-alpari.ru/1m15dVoDvor/preview.mp4?token=442f60d94c8a4ec6906de7a55dcedd38', 'https://fs.tv-alpari.ru/1m16domVoDvor/preview.mp4?token=0e02c0d73aee07f5353644a30640fda5', 'https://fs.tv-alpari.ru/11kv4domVoDvor/preview.mp4?token=8adb3e4c6c8e71f265963b607ce0ae69', 'https://fs.tv-alpari.ru/11kv4domVoDvor3/preview.mp4?token=0a6c768a2c34d29825676211aeacb432', 'https://fs.tv-alpari.ru/8kv6domNaPerecrestok/preview.mp4?token=316a9ee84a2bb33cae7cc60ac6421c17', 'https://fs.tv-alpari.ru/SerpiMolot/preview.mp4?token=59dae78b8fc7dd999cb477eaf511aa09', 'https://fs.tv-alpari.ru/PerekrestokCentrProspSPanzina/preview.mp4?token=ee97fc755b2bd4989f0436fe6f3b3452', 'https://fs.tv-alpari.ru/3kv3domNaPerekrestok/preview.mp4?token=70e38972620d91e74d02503edc78015a']\n"
     ]
    }
   ],
   "source": [
    "with open(\"urls.txt\", \"r\") as f:\n",
    "    urls : str = f.read().replace(\" \", \"\").replace(\"\\n\", \"\").replace(\"\\t\", \"\").replace(\"\\\"\", \"\").split(\",\")\n",
    "\n",
    "op = []\n",
    "\n",
    "for url in urls:\n",
    "    parts = url.split(\"/\")\n",
    "    base = parts[2]\n",
    "    name = parts[3]\n",
    "    tok = parts[4].split(\"?\")[1]\n",
    "    if \"-\" not in tok:\n",
    "        op.append(url)\n",
    "        print(f\"https://{base}/{name}/tracks-v1/$mono.m3u8?token=1$shelehov_open\")\n",
    "\n",
    "print(len(op))\n",
    "print(op)"
   ]
  }
 ],
 "metadata": {
  "kernelspec": {
   "display_name": ".venv",
   "language": "python",
   "name": "python3"
  },
  "language_info": {
   "codemirror_mode": {
    "name": "ipython",
    "version": 3
   },
   "file_extension": ".py",
   "mimetype": "text/x-python",
   "name": "python",
   "nbconvert_exporter": "python",
   "pygments_lexer": "ipython3",
   "version": "3.11.8"
  }
 },
 "nbformat": 4,
 "nbformat_minor": 2
}
