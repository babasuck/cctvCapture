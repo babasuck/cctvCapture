{
 "cells": [
  {
   "cell_type": "code",
   "execution_count": 21,
   "metadata": {},
   "outputs": [
    {
     "name": "stdout",
     "output_type": "stream",
     "text": [
      "dict_keys(['coord', 'weather', 'base', 'main', 'visibility', 'wind', 'clouds', 'dt', 'sys', 'timezone', 'id', 'name', 'cod'])\n",
      "{'coord': {'lon': 82.9344, 'lat': 55.0411}, 'weather': [{'id': 620, 'main': 'Snow', 'description': 'light shower snow', 'icon': '13n'}], 'base': 'stations', 'main': {'temp': -0.39, 'feels_like': -5.4, 'temp_min': -0.39, 'temp_max': -0.39, 'pressure': 1023, 'humidity': 93, 'sea_level': 1023, 'grnd_level': 1002}, 'visibility': 10000, 'wind': {'speed': 5, 'deg': 260}, 'clouds': {'all': 100}, 'dt': 1730310271, 'sys': {'type': 1, 'id': 8958, 'country': 'RU', 'sunrise': 1730338206, 'sunset': 1730372010}, 'timezone': 25200, 'id': 1496747, 'name': 'Novosibirsk', 'cod': 200}\n",
      "Погода - light shower snow, градусов - -0.39\n"
     ]
    }
   ],
   "source": [
    "import os\n",
    "import requests\n",
    "API_KEY = os.getenv(\"OPENWEATHER_API_KEY\")\n",
    "\n",
    "def get_weather(city, api_key):\n",
    "    url = f\"https://api.openweathermap.org/data/2.5/weather?q={city}&units=metric&appid={api_key}\"\n",
    "    data = requests.get(url).json()\n",
    "    print(data.keys())\n",
    "    print(data)\n",
    "    weather = data['weather'][0]['description']\n",
    "    degree = data['main']['temp']\n",
    "    print(f\"Погода - {weather}, градусов - {degree}\")\n",
    "\n",
    "api_key = API_KEY\n",
    "city = \"Novosibirsk\"\n",
    "get_weather(city, api_key)"
   ]
  }
 ],
 "metadata": {
  "kernelspec": {
   "display_name": ".venv",
   "language": "python",
   "name": "python3"
  },
  "language_info": {
   "codemirror_mode": {
    "name": "ipython",
    "version": 3
   },
   "file_extension": ".py",
   "mimetype": "text/x-python",
   "name": "python",
   "nbconvert_exporter": "python",
   "pygments_lexer": "ipython3",
   "version": "3.11.8"
  }
 },
 "nbformat": 4,
 "nbformat_minor": 2
}
